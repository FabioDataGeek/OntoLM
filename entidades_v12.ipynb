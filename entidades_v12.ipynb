{
 "cells": [
  {
   "cell_type": "code",
   "execution_count": 5,
   "metadata": {},
   "outputs": [
    {
     "name": "stderr",
     "output_type": "stream",
     "text": [
      "/usr/local/lib/python3.10/dist-packages/tqdm/auto.py:21: TqdmWarning: IProgress not found. Please update jupyter and ipywidgets. See https://ipywidgets.readthedocs.io/en/stable/user_install.html\n",
      "  from .autonotebook import tqdm as notebook_tqdm\n"
     ]
    }
   ],
   "source": [
    "import pickle as pkl\n",
    "from spacy_utils import *\n",
    "from entities import *\n",
    "from utils import *\n",
    "from graph import *\n",
    "from embeddings import *\n",
    "import networkx as nx\n",
    "from tqdm import tqdm"
   ]
  },
  {
   "cell_type": "code",
   "execution_count": 1,
   "metadata": {},
   "outputs": [],
   "source": [
    "import pickle as pkl\n"
   ]
  },
  {
   "cell_type": "code",
   "execution_count": 2,
   "metadata": {},
   "outputs": [],
   "source": [
    "file1 = '/usrvol/ISABIAL/Anotaciones_v12_2_ISABIAL/0text0.ann'\n",
    "file2 = '/usrvol/ISABIAL/Anotaciones_v12_2_ISABIAL/0text0.txt'"
   ]
  },
  {
   "cell_type": "code",
   "execution_count": 3,
   "metadata": {},
   "outputs": [],
   "source": [
    "with open(file1, 'r') as f:\n",
    "    lines = f.readlines()\n",
    "    lines = [line.strip() for line in lines]\n",
    "    lines = [line.split('\\t') for line in lines]\n",
    "\n",
    "new_lines = []\n",
    "for line in range(len(lines)):\n",
    "    new_line = {}\n",
    "    new_line['id'] = lines[line][0]\n",
    "    new_line['type'] = lines[line][1].split(' ')[0]\n",
    "    new_line['start'] = lines[line][1].split(' ')[1]\n",
    "    new_line['end'] = lines[line][1].split(' ')[2]\n",
    "    new_line['text'] = lines[line][2]\n",
    "    new_lines.append(new_line)"
   ]
  },
  {
   "cell_type": "code",
   "execution_count": 4,
   "metadata": {},
   "outputs": [
    {
     "data": {
      "text/plain": [
       "[{'id': 'T0',\n",
       "  'type': 'DiseaseOrSyndrome',\n",
       "  'start': '26',\n",
       "  'end': '61',\n",
       "  'text': 'neurodegenerative autosomal disease'},\n",
       " {'id': 'T1',\n",
       "  'type': 'GeneOrGenome',\n",
       "  'start': '121',\n",
       "  'end': '136',\n",
       "  'text': 'huntingtin gene'},\n",
       " {'id': 'T2',\n",
       "  'type': 'CellFunction',\n",
       "  'start': '138',\n",
       "  'end': '153',\n",
       "  'text': 'Phosphorylation'},\n",
       " {'id': 'T3',\n",
       "  'type': 'AminoAcidPeptideOrProtein',\n",
       "  'start': '161',\n",
       "  'end': '190',\n",
       "  'text': 'translation initiation factor'},\n",
       " {'id': 'T4',\n",
       "  'type': 'BiologicallyActiveSubstance',\n",
       "  'start': '161',\n",
       "  'end': '190',\n",
       "  'text': 'translation initiation factor'},\n",
       " {'id': 'T5',\n",
       "  'type': 'AminoAcidPeptideOrProtein',\n",
       "  'start': '191',\n",
       "  'end': '196',\n",
       "  'text': '4E-BP'},\n",
       " {'id': 'T6',\n",
       "  'type': 'GeneOrGenome',\n",
       "  'start': '191',\n",
       "  'end': '196',\n",
       "  'text': '4E-BP'},\n",
       " {'id': 'T7',\n",
       "  'type': 'CellFunction',\n",
       "  'start': '230',\n",
       "  'end': '249',\n",
       "  'text': 'translation control'},\n",
       " {'id': 'T8',\n",
       "  'type': 'CellOrMolecularDysfunction',\n",
       "  'start': '327',\n",
       "  'end': '333',\n",
       "  'text': 'mutant'},\n",
       " {'id': 'T9',\n",
       "  'type': 'CellFunction',\n",
       "  'start': '352',\n",
       "  'end': '370',\n",
       "  'text': 'gene transcription'},\n",
       " {'id': 'T10',\n",
       "  'type': 'Finding',\n",
       "  'start': '391',\n",
       "  'end': '402',\n",
       "  'text': 'Variability'},\n",
       " {'id': 'T11',\n",
       "  'type': 'PopulationGroup',\n",
       "  'start': '477',\n",
       "  'end': '482',\n",
       "  'text': 'adult'},\n",
       " {'id': 'T12',\n",
       "  'type': 'PopulationGroup',\n",
       "  'start': '487',\n",
       "  'end': '495',\n",
       "  'text': 'juvenile'},\n",
       " {'id': 'T13',\n",
       "  'type': 'PopulationGroup',\n",
       "  'start': '567',\n",
       "  'end': '575',\n",
       "  'text': 'maternal'},\n",
       " {'id': 'T14',\n",
       "  'type': 'BiologicFunction',\n",
       "  'start': '567',\n",
       "  'end': '586',\n",
       "  'text': 'maternal protection'},\n",
       " {'id': 'T15',\n",
       "  'type': 'PathologicFunction',\n",
       "  'start': '591',\n",
       "  'end': '622',\n",
       "  'text': 'excessive paternal transmission'},\n",
       " {'id': 'T16',\n",
       "  'type': 'NaturalPhenomenonOrProcess',\n",
       "  'start': '601',\n",
       "  'end': '622',\n",
       "  'text': 'paternal transmission'},\n",
       " {'id': 'T17',\n",
       "  'type': 'GeneOrGenome',\n",
       "  'start': '633',\n",
       "  'end': '645',\n",
       "  'text': 'ageing genes'},\n",
       " {'id': 'T18',\n",
       "  'type': 'DiseaseOrSyndrome',\n",
       "  'start': '768',\n",
       "  'end': '789',\n",
       "  'text': 'cognitive disturbance'},\n",
       " {'id': 'T19',\n",
       "  'type': 'DiseaseOrSyndrome',\n",
       "  'start': '794',\n",
       "  'end': '822',\n",
       "  'text': 'neuropsychiatric disturbance'},\n",
       " {'id': 'T20',\n",
       "  'type': 'HealthCareActivity',\n",
       "  'start': '828',\n",
       "  'end': '837',\n",
       "  'text': 'diagnosis'},\n",
       " {'id': 'T21',\n",
       "  'type': 'AminoAcidPeptideOrProtein',\n",
       "  'start': '346',\n",
       "  'end': '350',\n",
       "  'text': 'mhtt'},\n",
       " {'id': 'T22',\n",
       "  'type': 'CellOrMolecularDysfunction',\n",
       "  'start': '346',\n",
       "  'end': '350',\n",
       "  'text': 'mhtt'},\n",
       " {'id': 'T23',\n",
       "  'type': 'MolecularSequence',\n",
       "  'start': '102',\n",
       "  'end': '113',\n",
       "  'text': 'CAG repeats'},\n",
       " {'id': 'T24',\n",
       "  'type': 'TemporalConcept',\n",
       "  'start': '406',\n",
       "  'end': '418',\n",
       "  'text': 'age of onset'},\n",
       " {'id': 'T25',\n",
       "  'type': 'SignOrSymptom',\n",
       "  'start': '749',\n",
       "  'end': '766',\n",
       "  'text': 'motor disturbance'},\n",
       " {'id': 'T26',\n",
       "  'type': 'SignOrSymptom',\n",
       "  'start': '911',\n",
       "  'end': '941',\n",
       "  'text': 'primary and secondary symptoms'},\n",
       " {'id': 'T27',\n",
       "  'type': 'CellOrMolecularDysfunction',\n",
       "  'start': '261',\n",
       "  'end': '287',\n",
       "  'text': 'unwanted protein synthesis'},\n",
       " {'id': 'T29',\n",
       "  'type': 'NaturalPhenomenonOrProcess',\n",
       "  'start': '650',\n",
       "  'end': '673',\n",
       "  'text': 'environmental threshold'},\n",
       " {'id': 'T30',\n",
       "  'type': 'Finding',\n",
       "  'start': '212',\n",
       "  'end': '222',\n",
       "  'text': 'alteration'},\n",
       " {'id': 'T31',\n",
       "  'type': 'GeneOrGenome',\n",
       "  'start': '548',\n",
       "  'end': '565',\n",
       "  'text': 'genetic modifiers'},\n",
       " {'id': 'T32',\n",
       "  'type': 'CellFunction',\n",
       "  'start': '548',\n",
       "  'end': '565',\n",
       "  'text': 'genetic modifiers'},\n",
       " {'id': 'T33',\n",
       "  'type': 'HealthCareActivity',\n",
       "  'start': '886',\n",
       "  'end': '901',\n",
       "  'text': 'genetic testing'},\n",
       " {'id': 'T34',\n",
       "  'type': 'BiomedicalOccupationOrDiscipline',\n",
       "  'start': '982',\n",
       "  'end': '990',\n",
       "  'text': 'genetics'},\n",
       " {'id': 'T35',\n",
       "  'type': 'CellFunction',\n",
       "  'start': '982',\n",
       "  'end': '990',\n",
       "  'text': 'genetics'},\n",
       " {'id': 'T36',\n",
       "  'type': 'DiseaseOrSyndrome',\n",
       "  'start': '0',\n",
       "  'end': '20',\n",
       "  'text': \"Huntington's disease\"},\n",
       " {'id': 'T37',\n",
       "  'type': 'DiseaseOrSyndrome',\n",
       "  'start': '445',\n",
       "  'end': '465',\n",
       "  'text': \"Huntington's disease\"},\n",
       " {'id': 'T38',\n",
       "  'type': 'DiseaseOrSyndrome',\n",
       "  'start': '1008',\n",
       "  'end': '1028',\n",
       "  'text': \"Huntington's disease\"},\n",
       " {'id': 'T39',\n",
       "  'type': 'PathologicFunction',\n",
       "  'start': '711',\n",
       "  'end': '733',\n",
       "  'text': 'molecular pathogenesis'},\n",
       " {'id': 'T40',\n",
       "  'type': 'CellFunction',\n",
       "  'start': '292',\n",
       "  'end': '309',\n",
       "  'text': 'neuronal function'},\n",
       " {'id': 'T41',\n",
       "  'type': 'PathologicFunction',\n",
       "  'start': '995',\n",
       "  'end': '1004',\n",
       "  'text': 'pathology'},\n",
       " {'id': 'T42',\n",
       "  'type': 'BiomedicalOccupationOrDiscipline',\n",
       "  'start': '995',\n",
       "  'end': '1004',\n",
       "  'text': 'pathology'},\n",
       " {'id': 'T43',\n",
       "  'type': 'CellFunction',\n",
       "  'start': '90',\n",
       "  'end': '101',\n",
       "  'text': 'polymorphic'},\n",
       " {'id': 'T44',\n",
       "  'type': 'CellFunction',\n",
       "  'start': '270',\n",
       "  'end': '287',\n",
       "  'text': 'protein synthesis'},\n",
       " {'id': 'T45',\n",
       "  'type': 'ResearchActivity',\n",
       "  'start': '955',\n",
       "  'end': '961',\n",
       "  'text': 'review'},\n",
       " {'id': 'T46',\n",
       "  'type': 'HealthCareActivity',\n",
       "  'start': '955',\n",
       "  'end': '961',\n",
       "  'text': 'review'},\n",
       " {'id': 'T28',\n",
       "  'type': 'DiseaseOrSyndrome',\n",
       "  'start': '334',\n",
       "  'end': '344',\n",
       "  'text': 'huntington'},\n",
       " {'id': 'T47',\n",
       "  'type': 'BiologicallyActiveSubstance',\n",
       "  'start': '191',\n",
       "  'end': '196',\n",
       "  'text': '4E-BP'}]"
      ]
     },
     "execution_count": 4,
     "metadata": {},
     "output_type": "execute_result"
    }
   ],
   "source": [
    "new_lines"
   ]
  },
  {
   "cell_type": "code",
   "execution_count": 31,
   "metadata": {},
   "outputs": [
    {
     "name": "stderr",
     "output_type": "stream",
     "text": [
      "/usr/local/lib/python3.10/dist-packages/sklearn/base.py:347: InconsistentVersionWarning: Trying to unpickle estimator TfidfTransformer from version 1.1.2 when using version 1.3.0. This might lead to breaking code or invalid results. Use at your own risk. For more info please refer to:\n",
      "https://scikit-learn.org/stable/model_persistence.html#security-maintainability-limitations\n",
      "  warnings.warn(\n",
      "/usr/local/lib/python3.10/dist-packages/sklearn/base.py:347: InconsistentVersionWarning: Trying to unpickle estimator TfidfVectorizer from version 1.1.2 when using version 1.3.0. This might lead to breaking code or invalid results. Use at your own risk. For more info please refer to:\n",
      "https://scikit-learn.org/stable/model_persistence.html#security-maintainability-limitations\n",
      "  warnings.warn(\n"
     ]
    }
   ],
   "source": [
    "ner = Ner(spacy_model='en_core_sci_lg', \n",
    "          pipeline_linker='scispacy_linker', \n",
    "          resolve_abbreviations=True, \n",
    "          ontology=\"umls\", \n",
    "          threshold=\"0.80\", \n",
    "          max_entities_per_mention='100')"
   ]
  },
  {
   "cell_type": "code",
   "execution_count": 23,
   "metadata": {},
   "outputs": [],
   "source": [
    "text = new_lines[2]['text']"
   ]
  },
  {
   "cell_type": "code",
   "execution_count": 24,
   "metadata": {},
   "outputs": [
    {
     "data": {
      "text/plain": [
       "'Phosphorylation'"
      ]
     },
     "execution_count": 24,
     "metadata": {},
     "output_type": "execute_result"
    }
   ],
   "source": [
    "text"
   ]
  },
  {
   "cell_type": "code",
   "execution_count": 25,
   "metadata": {},
   "outputs": [],
   "source": [
    "doc = ner.detected_entities(text)\n",
    "list_linked_entities = ner.linked_entities(doc)"
   ]
  },
  {
   "cell_type": "code",
   "execution_count": 26,
   "metadata": {},
   "outputs": [
    {
     "data": {
      "text/plain": [
       "1"
      ]
     },
     "execution_count": 26,
     "metadata": {},
     "output_type": "execute_result"
    }
   ],
   "source": [
    "len(list_linked_entities)"
   ]
  },
  {
   "cell_type": "code",
   "execution_count": 37,
   "metadata": {},
   "outputs": [],
   "source": [
    "list_linked_entities.extend(list_linked_entities)"
   ]
  },
  {
   "cell_type": "code",
   "execution_count": 42,
   "metadata": {},
   "outputs": [
    {
     "data": {
      "text/plain": [
       "['4E-BP',\n",
       " [('C0254260', 0.8104286193847656),\n",
       "  ('C1414352', 0.8104286193847656),\n",
       "  ('C2984182', 0.8104286193847656)]]"
      ]
     },
     "execution_count": 42,
     "metadata": {},
     "output_type": "execute_result"
    }
   ],
   "source": [
    "list_linked_entities[1]"
   ]
  },
  {
   "cell_type": "code",
   "execution_count": 35,
   "metadata": {},
   "outputs": [
    {
     "name": "stdout",
     "output_type": "stream",
     "text": [
      "neurodegenerative autosomal disease            neurodegenerative autosomal disease\n",
      "huntingtin gene            huntingtin gene\n",
      "Phosphorylation            Phosphorylation\n",
      "translation initiation factor            translation initiation factor\n",
      "translation initiation factor            translation initiation factor\n",
      "4E-BP            4E-BP\n",
      "4E-BP            4E-BP\n",
      "mutant            mutant\n",
      "gene transcription            gene transcription\n",
      "Variability            Variability\n",
      "adult            adult\n",
      "juvenile            juvenile\n",
      "maternal            maternal\n",
      "maternal            maternal protection\n",
      "excessive            excessive paternal transmission\n",
      "paternal transmission            paternal transmission\n",
      "ageing genes            ageing genes\n",
      "cognitive disturbance            cognitive disturbance\n",
      "neuropsychiatric disturbance            neuropsychiatric disturbance\n",
      "diagnosis            diagnosis\n",
      "CAG repeats            CAG repeats\n",
      "age            age of onset\n",
      "motor disturbance            motor disturbance\n",
      "primary            primary and secondary symptoms\n",
      "protein synthesis            unwanted protein synthesis\n",
      "environmental            environmental threshold\n",
      "alteration            alteration\n",
      "genetic testing            genetic testing\n",
      "genetics            genetics\n",
      "genetics            genetics\n",
      "Huntington's disease            Huntington's disease\n",
      "Huntington's disease            Huntington's disease\n",
      "Huntington's disease            Huntington's disease\n",
      "molecular            molecular pathogenesis\n",
      "neuronal function            neuronal function\n",
      "pathology            pathology\n",
      "pathology            pathology\n",
      "polymorphic            polymorphic\n",
      "protein synthesis            protein synthesis\n",
      "review            review\n",
      "review            review\n",
      "4E-BP            4E-BP\n",
      "42\n"
     ]
    }
   ],
   "source": [
    "counter = 0\n",
    "for i in range(len(new_lines)):\n",
    "    line = new_lines[i]\n",
    "    text = line['text']\n",
    "    doc = ner.detected_entities(text)\n",
    "    list_linked_entities = ner.linked_entities(doc)\n",
    "    if len(list_linked_entities) > 0:\n",
    "        print(list_linked_entities[0][0] + \"            \" + text)\n",
    "        counter += 1\n",
    "\n",
    "print(counter)"
   ]
  },
  {
   "cell_type": "code",
   "execution_count": 30,
   "metadata": {},
   "outputs": [
    {
     "name": "stdout",
     "output_type": "stream",
     "text": [
      "neurodegenerative autosomal disease\n",
      "huntingtin gene\n",
      "Phosphorylation\n",
      "translation initiation factor\n",
      "translation initiation factor\n",
      "4E-BP\n",
      "4E-BP\n",
      "translation control\n",
      "mutant\n",
      "gene transcription\n",
      "Variability\n",
      "adult\n",
      "juvenile\n",
      "maternal\n",
      "maternal protection\n",
      "excessive paternal transmission\n",
      "paternal transmission\n",
      "ageing genes\n",
      "cognitive disturbance\n",
      "neuropsychiatric disturbance\n",
      "diagnosis\n",
      "mhtt\n",
      "mhtt\n",
      "CAG repeats\n",
      "age of onset\n",
      "motor disturbance\n",
      "primary and secondary symptoms\n",
      "unwanted protein synthesis\n",
      "environmental threshold\n",
      "alteration\n",
      "genetic modifiers\n",
      "genetic modifiers\n",
      "genetic testing\n",
      "genetics\n",
      "genetics\n",
      "Huntington's disease\n",
      "Huntington's disease\n",
      "Huntington's disease\n",
      "molecular pathogenesis\n",
      "neuronal function\n",
      "pathology\n",
      "pathology\n",
      "polymorphic\n",
      "protein synthesis\n",
      "review\n",
      "review\n",
      "huntington\n",
      "4E-BP\n"
     ]
    }
   ],
   "source": [
    "for line in new_lines:\n",
    "    print(line['text'])"
   ]
  }
 ],
 "metadata": {
  "kernelspec": {
   "display_name": "Python 3",
   "language": "python",
   "name": "python3"
  },
  "language_info": {
   "codemirror_mode": {
    "name": "ipython",
    "version": 3
   },
   "file_extension": ".py",
   "mimetype": "text/x-python",
   "name": "python",
   "nbconvert_exporter": "python",
   "pygments_lexer": "ipython3",
   "version": "3.10.12"
  }
 },
 "nbformat": 4,
 "nbformat_minor": 2
}
