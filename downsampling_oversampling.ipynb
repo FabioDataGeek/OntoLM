{
 "cells": [
  {
   "cell_type": "code",
   "execution_count": 1,
   "metadata": {},
   "outputs": [],
   "source": [
    "import pickle as pkl"
   ]
  },
  {
   "cell_type": "code",
   "execution_count": 2,
   "metadata": {},
   "outputs": [],
   "source": [
    "with open('/usrvol/experiments/data/categorical_gran_escala/statements.pickle', 'rb') as f:\n",
    "    statements = pkl.load(f)"
   ]
  },
  {
   "cell_type": "code",
   "execution_count": 8,
   "metadata": {},
   "outputs": [
    {
     "data": {
      "text/plain": [
       "64630"
      ]
     },
     "execution_count": 8,
     "metadata": {},
     "output_type": "execute_result"
    }
   ],
   "source": [
    "len(statements)"
   ]
  },
  {
   "cell_type": "code",
   "execution_count": null,
   "metadata": {},
   "outputs": [],
   "source": []
  },
  {
   "cell_type": "code",
   "execution_count": 4,
   "metadata": {},
   "outputs": [],
   "source": [
    "classes_count = {}\n",
    "for statement in statements:\n",
    "    categories = statement['category']\n",
    "    for category in categories:\n",
    "        if category not in classes_count:\n",
    "            classes_count[category] = 1\n",
    "        else:\n",
    "            classes_count[category] += 1"
   ]
  },
  {
   "cell_type": "code",
   "execution_count": 5,
   "metadata": {},
   "outputs": [
    {
     "data": {
      "text/plain": [
       "{'cellfunction': 3992,\n",
       " 'cellcomponent': 2252,\n",
       " 'cell': 3642,\n",
       " 'biologicfunction': 2454,\n",
       " 'naturalphenomenonorprocess': 315,\n",
       " 'cellormoleculardysfunction': 1103,\n",
       " 'temporalconcept': 2998,\n",
       " 'pathologicfunction': 2096,\n",
       " 'bodypartorganororgancomponent': 4104,\n",
       " 'aminoacidpeptideorprotein': 5482,\n",
       " 'biologicallyactivesubstance': 5317,\n",
       " 'eukaryote': 685,\n",
       " 'finding': 4018,\n",
       " 'individualbehavior': 136,\n",
       " 'organism': 162,\n",
       " 'injuryorpoisoning': 540,\n",
       " 'researchactivity': 5991,\n",
       " 'healthcareactivity': 4094,\n",
       " 'clinicalattribute': 2138,\n",
       " 'populationgroup': 1903,\n",
       " 'diseaseorsyndrome': 7363,\n",
       " 'patientordisabledgroup': 846,\n",
       " 'substance': 417,\n",
       " 'signorsymptom': 327,\n",
       " 'organismattribute': 794,\n",
       " 'pharmacologicsubstance': 1111,\n",
       " 'machineactivity': 206,\n",
       " 'healthcarerelatedorganization': 205,\n",
       " 'biomedicaloccupationordiscipline': 369,\n",
       " 'geneorgenome': 1500,\n",
       " 'chemical': 1515,\n",
       " 'nucleicacidnucleosideornucleotide': 737,\n",
       " 'bacterium': 109,\n",
       " 'virus': 167,\n",
       " 'environmentaleffectofhumans': 89,\n",
       " 'molecularsequence': 74,\n",
       " 'experimentalmodelofdisease': 374,\n",
       " 'anatomicalabnormality': 114,\n",
       " 'manufacturedobject': 177,\n",
       " 'embryonicstructure': 87}"
      ]
     },
     "execution_count": 5,
     "metadata": {},
     "output_type": "execute_result"
    }
   ],
   "source": [
    "classes_count"
   ]
  },
  {
   "cell_type": "code",
   "execution_count": 6,
   "metadata": {},
   "outputs": [],
   "source": [
    "counter = 0\n",
    "for category in classes_count:\n",
    "    counter += classes_count[category]"
   ]
  },
  {
   "cell_type": "code",
   "execution_count": 7,
   "metadata": {},
   "outputs": [
    {
     "data": {
      "text/plain": [
       "70003"
      ]
     },
     "execution_count": 7,
     "metadata": {},
     "output_type": "execute_result"
    }
   ],
   "source": [
    "counter"
   ]
  },
  {
   "cell_type": "code",
   "execution_count": null,
   "metadata": {},
   "outputs": [],
   "source": []
  }
 ],
 "metadata": {
  "kernelspec": {
   "display_name": "Python 3",
   "language": "python",
   "name": "python3"
  },
  "language_info": {
   "codemirror_mode": {
    "name": "ipython",
    "version": 3
   },
   "file_extension": ".py",
   "mimetype": "text/x-python",
   "name": "python",
   "nbconvert_exporter": "python",
   "pygments_lexer": "ipython3",
   "version": "3.10.6"
  }
 },
 "nbformat": 4,
 "nbformat_minor": 2
}
